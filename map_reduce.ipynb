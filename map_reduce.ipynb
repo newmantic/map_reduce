{
  "nbformat": 4,
  "nbformat_minor": 0,
  "metadata": {
    "colab": {
      "provenance": [],
      "authorship_tag": "ABX9TyOAzzio1N4ulRf3vwJifGQ6",
      "include_colab_link": true
    },
    "kernelspec": {
      "name": "python3",
      "display_name": "Python 3"
    },
    "language_info": {
      "name": "python"
    }
  },
  "cells": [
    {
      "cell_type": "markdown",
      "metadata": {
        "id": "view-in-github",
        "colab_type": "text"
      },
      "source": [
        "<a href=\"https://colab.research.google.com/github/newmantic/map_reduce/blob/main/map_reduce.ipynb\" target=\"_parent\"><img src=\"https://colab.research.google.com/assets/colab-badge.svg\" alt=\"Open In Colab\"/></a>"
      ]
    },
    {
      "cell_type": "code",
      "execution_count": 1,
      "metadata": {
        "id": "ZV6Sc_4uSwvp"
      },
      "outputs": [],
      "source": [
        "from collections import defaultdict\n",
        "from functools import reduce\n",
        "\n",
        "def map_function(document):\n",
        "    \"\"\"\n",
        "    Example Map function that counts the occurrence of each word in a document.\n",
        "\n",
        "    :param document: A string representing the input document.\n",
        "    :return: A list of key-value pairs where each key is a word and the value is 1.\n",
        "    \"\"\"\n",
        "    word_counts = []\n",
        "    for word in document.split():\n",
        "        word_counts.append((word.lower(), 1))\n",
        "    return word_counts\n",
        "\n",
        "def reduce_function(key, values):\n",
        "    \"\"\"\n",
        "    Example Reduce function that sums the values for each unique key.\n",
        "\n",
        "    :param key: The key (e.g., a word).\n",
        "    :param values: A list of integer counts associated with the key.\n",
        "    :return: The key and the sum of its associated values.\n",
        "    \"\"\"\n",
        "    return (key, sum(values))\n",
        "\n"
      ]
    },
    {
      "cell_type": "code",
      "source": [
        "class MapReduce:\n",
        "    def __init__(self, map_func, reduce_func):\n",
        "        self.map_func = map_func\n",
        "        self.reduce_func = reduce_func\n",
        "\n",
        "    def execute(self, documents):\n",
        "        \"\"\"\n",
        "        Execute the MapReduce process.\n",
        "\n",
        "        :param documents: A list of documents (strings).\n",
        "        :return: A dictionary with words as keys and their counts as values.\n",
        "        \"\"\"\n",
        "        # Step 1: Map Phase\n",
        "        mapped = []\n",
        "        for document in documents:\n",
        "            mapped.extend(self.map_func(document))\n",
        "\n",
        "        # Step 2: Shuffle and Sort Phase (Group by key)\n",
        "        grouped_data = defaultdict(list)\n",
        "        for key, value in mapped:\n",
        "            grouped_data[key].append(value)\n",
        "\n",
        "        # Step 3: Reduce Phase\n",
        "        reduced = {}\n",
        "        for key, values in grouped_data.items():\n",
        "            reduced[key] = self.reduce_func(key, values)\n",
        "\n",
        "        return reduced"
      ],
      "metadata": {
        "id": "_lp0cM3aTBIJ"
      },
      "execution_count": 2,
      "outputs": []
    },
    {
      "cell_type": "code",
      "source": [
        "def test_case_1():\n",
        "    documents = [\n",
        "        \"The quick brown fox jumps over the lazy dog\",\n",
        "        \"The quick brown fox jumps\",\n",
        "        \"The quick fox\",\n",
        "        \"The dog sleeps in the barn\",\n",
        "        \"The dog plays with the fox\"\n",
        "    ]\n",
        "\n",
        "    map_reduce = MapReduce(map_function, reduce_function)\n",
        "    result = map_reduce.execute(documents)\n",
        "\n",
        "    # Display results\n",
        "    for word, count in sorted(result.items()):\n",
        "        print(f\"{word}: {count[1]}\")\n",
        "\n",
        "test_case_1()"
      ],
      "metadata": {
        "colab": {
          "base_uri": "https://localhost:8080/"
        },
        "id": "KG2C0mRQTENA",
        "outputId": "0d8d72d1-3f4c-4274-9d92-05071ea755f4"
      },
      "execution_count": 3,
      "outputs": [
        {
          "output_type": "stream",
          "name": "stdout",
          "text": [
            "barn: 1\n",
            "brown: 2\n",
            "dog: 3\n",
            "fox: 4\n",
            "in: 1\n",
            "jumps: 2\n",
            "lazy: 1\n",
            "over: 1\n",
            "plays: 1\n",
            "quick: 3\n",
            "sleeps: 1\n",
            "the: 8\n",
            "with: 1\n"
          ]
        }
      ]
    },
    {
      "cell_type": "code",
      "source": [
        "def map_function_chars(document):\n",
        "    \"\"\"\n",
        "    Map function that counts the occurrence of each character in a document.\n",
        "\n",
        "    :param document: A string representing the input document.\n",
        "    :return: A list of key-value pairs where each key is a character and the value is 1.\n",
        "    \"\"\"\n",
        "    char_counts = []\n",
        "    for char in document:\n",
        "        if char.isalnum():  # Count only alphanumeric characters\n",
        "            char_counts.append((char.lower(), 1))\n",
        "    return char_counts\n",
        "\n",
        "def test_case_2():\n",
        "    documents = [\n",
        "        \"The quick brown fox jumps over the lazy dog\",\n",
        "        \"The quick brown fox jumps\",\n",
        "        \"The quick fox\",\n",
        "        \"The dog sleeps in the barn\",\n",
        "        \"The dog plays with the fox\"\n",
        "    ]\n",
        "\n",
        "    map_reduce = MapReduce(map_function_chars, reduce_function)\n",
        "    result = map_reduce.execute(documents)\n",
        "\n",
        "    # Display results\n",
        "    for char, count in sorted(result.items()):\n",
        "        print(f\"{char}: {count[1]}\")\n",
        "\n",
        "test_case_2()"
      ],
      "metadata": {
        "colab": {
          "base_uri": "https://localhost:8080/"
        },
        "id": "Wm0m__tJTHv7",
        "outputId": "bb5daaec-ac50-44cd-c345-ffe38445f261"
      },
      "execution_count": 4,
      "outputs": [
        {
          "output_type": "stream",
          "name": "stdout",
          "text": [
            "a: 3\n",
            "b: 3\n",
            "c: 3\n",
            "d: 3\n",
            "e: 11\n",
            "f: 4\n",
            "g: 3\n",
            "h: 9\n",
            "i: 5\n",
            "j: 2\n",
            "k: 3\n",
            "l: 3\n",
            "m: 2\n",
            "n: 4\n",
            "o: 10\n",
            "p: 4\n",
            "q: 3\n",
            "r: 4\n",
            "s: 5\n",
            "t: 9\n",
            "u: 5\n",
            "v: 1\n",
            "w: 3\n",
            "x: 4\n",
            "y: 2\n",
            "z: 1\n"
          ]
        }
      ]
    },
    {
      "cell_type": "code",
      "source": [],
      "metadata": {
        "id": "bClFLWwvTLJX"
      },
      "execution_count": null,
      "outputs": []
    }
  ]
}